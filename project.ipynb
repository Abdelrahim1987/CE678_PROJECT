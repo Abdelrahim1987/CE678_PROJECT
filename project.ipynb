{
 "cells": [
  {
   "cell_type": "markdown",
   "metadata": {},
   "source": [
    "# 1"
   ]
  },
  {
   "cell_type": "code",
   "execution_count": 1,
   "metadata": {},
   "outputs": [],
   "source": [
    "%1\n",
    "NGS_Block = dlmread('Q1/RESOURCES/NGS_GRAVD_Block_CN03_BETA1/NGS_GRAVD_Block_CN03_Gravity_Data_BETA1.txt');\n",
    "NGS_Block_place = NGS_Block(:,1);\n",
    "NGS_Block_time = NGS_Block(:,2);\n",
    "NGS_Block_latitude = NGS_Block(:,3);\n",
    "NGS_Block_longitude = NGS_Block(:,4);\n",
    "NGS_Block_elipsoidal_height = NGS_Block(:,5);\n",
    "NGS_Block_gravity_filtered = NGS_Block(:,6);"
   ]
  },
  {
   "cell_type": "markdown",
   "metadata": {},
   "source": [
    "# 2"
   ]
  },
  {
   "cell_type": "code",
   "execution_count": 2,
   "metadata": {},
   "outputs": [
    {
     "name": "stdout",
     "output_type": "stream",
     "text": [
      "warning: textread is obsolete; use textscan instead\n"
     ]
    }
   ],
   "source": [
    "%2 \n",
    "%N_ggm = open('/Users/sunilbhavsar/Documents/CE678_PROJECT/Q2/RESOURCES/AIUB-CHAMP01S_a50de3dfc2ab0cdb9a2ae28b113f3398304202075281a813ba9cc27562a667af.gdf')\n",
    "%a = open('/Users/sunilbhavsar/Documents/CE678_PROJECT/AIUB-CHAMP01S_a50de3dfc2ab0cdb9a2ae28b113f3398304202075281a813ba9cc27562a667af.gdf')\n",
    "fid = fopen('Q2/Downloaded_data/GGM01C.gdf'); % file identifier\n",
    "\n",
    "h = true; % while loop condition\n",
    "\n",
    "n = 1; % headerlines counter\n",
    "\n",
    "while true\n",
    "\n",
    "    str = fgets(fid); % reading the file line by line\n",
    "    \n",
    "    if length(str) >= 11\n",
    "        indx = strcmp(str(1:11), 'end_of_head'); % checking for 'end_of_head' string\n",
    "    else\n",
    "        indx = false;\n",
    "    end\n",
    "    \n",
    "    if indx == 0\n",
    "    \n",
    "    n = n+1; % keep counting\n",
    "    \n",
    "    else\n",
    "    \n",
    "    h = false; % break loop\n",
    "    break;\n",
    "    \n",
    "    end\n",
    "\n",
    "end\n",
    "str = fgets(fid);\n",
    "fclose(fid);\n",
    "GGM01C = textread('Q2/Downloaded_data/GGM01C.gdf','', 'headerlines', n);"
   ]
  },
  {
   "cell_type": "code",
   "execution_count": 3,
   "metadata": {},
   "outputs": [],
   "source": [
    "GGM01C_longitudes = GGM01C(:,1)-360;\n",
    "GGM01C_latitudes = GGM01C(:,2);\n",
    "GGM01C_geoid = GGM01C(:,3);"
   ]
  },
  {
   "cell_type": "code",
   "execution_count": 4,
   "metadata": {},
   "outputs": [],
   "source": [
    "%adding \n",
    "n_ggm = griddata(GGM01C_latitudes,GGM01C_longitudes,GGM01C_geoid,NGS_Block_latitude,NGS_Block_longitude,\"nearest\");\n",
    "orthometric_height = n_ggm + NGS_Block_elipsoidal_height;"
   ]
  },
  {
   "cell_type": "markdown",
   "metadata": {},
   "source": [
    "## 3"
   ]
  },
  {
   "cell_type": "code",
   "execution_count": 5,
   "metadata": {
    "scrolled": true
   },
   "outputs": [],
   "source": [
    "%3\n",
    "a = 6378137.0;\n",
    "b = 6356752.314140;\n",
    "gamma_a = 9.7803267714;\n",
    "gamma_b = 9.8321863685;\n",
    "omega = 7292115.0*10^11;\n",
    "GM = 3986004.418*10^8 ;\n",
    "m = ((omega^2)*(a^2)*b)/GM;\n",
    "f = (a-b)/a;\n",
    "gamma = (a*gamma_a*(cosd(NGS_Block_latitude).^2) + b*gamma_b*(sind(NGS_Block_latitude).^2))./((a*(cosd(NGS_Block_latitude).^2)+b*(sind(NGS_Block_latitude).^2)).^0.5);\n",
    "%calculating g_fac (free air correction)\n",
    "term_1 = 0.3086*orthometric_height;\n",
    "term2 = (3/a^2)*gamma.*(orthometric_height.^2);\n",
    "g_fac = term_1 + term2;\n",
    "free_air_anomily = NGS_Block_gravity_filtered + g_fac- gamma;"
   ]
  },
  {
   "cell_type": "markdown",
   "metadata": {},
   "source": [
    "## 4"
   ]
  },
  {
   "cell_type": "code",
   "execution_count": 6,
   "metadata": {},
   "outputs": [],
   "source": [
    "%4\n",
    "fid = fopen('Q4/GGM01C_Anomily.gdf'); % file identifier\n",
    "\n",
    "h = true; % while loop condition\n",
    "\n",
    "n = 1; % headerlines counter\n",
    "\n",
    "while true\n",
    "\n",
    "    str = fgets(fid); % reading the file line by line\n",
    "    \n",
    "    if length(str) >= 11\n",
    "        indx = strcmp(str(1:11), 'end_of_head'); % checking for 'end_of_head' string\n",
    "    else\n",
    "        indx = false;\n",
    "    end\n",
    "    \n",
    "    if indx == 0\n",
    "    \n",
    "    n = n+1; % keep counting\n",
    "    \n",
    "    else\n",
    "    \n",
    "    h = false; % break loop\n",
    "    break;\n",
    "    \n",
    "    end\n",
    "\n",
    "end\n",
    "str = fgets(fid);\n",
    "fclose(fid);\n",
    "GGM01C_anomily = textread('Q4/GGM01C_Anomily.gdf','', 'headerlines', n);\n",
    "GGM01C_anomily_longitude = GGM01C_anomily(:,1)-360;\n",
    "GGM01C_anomily_latitude = GGM01C_anomily(:,2);\n",
    "GGM01C_anomily_gravity_anomily = GGM01C_anomily(:,4);"
   ]
  },
  {
   "cell_type": "code",
   "execution_count": 7,
   "metadata": {},
   "outputs": [],
   "source": [
    "del_g_ggm = griddata(GGM01C_anomily_latitude,GGM01C_anomily_longitude,GGM01C_anomily_gravity_anomily,NGS_Block_latitude,NGS_Block_longitude);\n",
    "del_g_s_and_mw = free_air_anomily-del_g_ggm;"
   ]
  },
  {
   "cell_type": "markdown",
   "metadata": {},
   "source": [
    "## 5"
   ]
  },
  {
   "cell_type": "code",
   "execution_count": 8,
   "metadata": {},
   "outputs": [],
   "source": [
    "%5\n",
    "g_atm = 0.871 - 1.0298*(10^(-4))*orthometric_height + 5.3105*(10^-9)*(orthometric_height.^2)  - 2.1642*(10^-13)*(orthometric_height.^3)+ 9.5246*(10^-18)*(orthometric_height.^4) - 2.2411*(10^-22)*(orthometric_height.^5);\n",
    "g_atm_and_s_mw = del_g_s_and_mw - g_atm;"
   ]
  },
  {
   "cell_type": "markdown",
   "metadata": {},
   "source": [
    "## 6"
   ]
  },
  {
   "cell_type": "code",
   "execution_count": 14,
   "metadata": {},
   "outputs": [
    {
     "name": "stdout",
     "output_type": "stream",
     "text": [
      "ans =\r\n",
      "\r\n",
      "     1   293\r\n",
      "\r\n"
     ]
    }
   ],
   "source": [
    "%6\n",
    "lat = min(NGS_Block_latitude):0.01:max(NGS_Block_latitude);\n",
    "long = min(NGS_Block_longitude):0.01:max(NGS_Block_longitude);\n",
    "size(lat)\n",
    "[Latitude_grid,Longitude_grid]=meshgrid(lat,long);\n",
    "g_atm_and_s_mw_grid = griddata(NGS_Block_latitude,NGS_Block_longitude,g_atm_and_s_mw,Latitude_grid,Longitude_grid,\"nearest\");"
   ]
  },
  {
   "cell_type": "code",
   "execution_count": null,
   "metadata": {
    "scrolled": false
   },
   "outputs": [],
   "source": []
  },
  {
   "cell_type": "code",
   "execution_count": null,
   "metadata": {},
   "outputs": [],
   "source": []
  }
 ],
 "metadata": {
  "kernelspec": {
   "display_name": "Octave",
   "language": "octave",
   "name": "octave"
  },
  "language_info": {
   "file_extension": ".m",
   "help_links": [
    {
     "text": "GNU Octave",
     "url": "https://www.gnu.org/software/octave/support.html"
    },
    {
     "text": "Octave Kernel",
     "url": "https://github.com/Calysto/octave_kernel"
    },
    {
     "text": "MetaKernel Magics",
     "url": "https://metakernel.readthedocs.io/en/latest/source/README.html"
    }
   ],
   "mimetype": "text/x-octave",
   "name": "octave",
   "version": "5.2.0"
  }
 },
 "nbformat": 4,
 "nbformat_minor": 4
}
