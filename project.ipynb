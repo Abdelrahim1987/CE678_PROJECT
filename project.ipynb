{
 "cells": [
  {
   "cell_type": "markdown",
   "metadata": {},
   "source": [
    "# 1"
   ]
  },
  {
   "cell_type": "code",
   "execution_count": 1,
   "metadata": {},
   "outputs": [],
   "source": [
    "%1\n",
    "T = dlmread('Q1/RESOURCES/NGS_GRAVD_Block_CN03_BETA1/NGS_GRAVD_Block_CN03_Gravity_Data_BETA1.txt');\n",
    "place = T(:,1);\n",
    "time = T(:,2);\n",
    "latitude = T(:,3);\n",
    "longitude = T(:,4);\n",
    "elipsoidal_height = T(:,5);\n",
    "gravity_filtered = T(:,6);"
   ]
  },
  {
   "cell_type": "markdown",
   "metadata": {},
   "source": [
    "# 2"
   ]
  },
  {
   "cell_type": "code",
   "execution_count": 30,
   "metadata": {},
   "outputs": [],
   "source": [
    "%2 \n",
    "%N_ggm = open('/Users/sunilbhavsar/Documents/CE678_PROJECT/Q2/RESOURCES/AIUB-CHAMP01S_a50de3dfc2ab0cdb9a2ae28b113f3398304202075281a813ba9cc27562a667af.gdf')\n",
    "%a = open('/Users/sunilbhavsar/Documents/CE678_PROJECT/AIUB-CHAMP01S_a50de3dfc2ab0cdb9a2ae28b113f3398304202075281a813ba9cc27562a667af.gdf')\n",
    "fid = fopen('Q2/Downloaded_data/GGM01C.gdf'); % file identifier\n",
    "\n",
    "h = true; % while loop condition\n",
    "\n",
    "n = 1; % headerlines counter\n",
    "\n",
    "while true\n",
    "\n",
    "    str = fgets(fid); % reading the file line by line\n",
    "    \n",
    "    if length(str) >= 11\n",
    "        indx = strcmp(str(1:11), 'end_of_head'); % checking for 'end_of_head' string\n",
    "    else\n",
    "        indx = false;\n",
    "    end\n",
    "    \n",
    "    if indx == 0\n",
    "    \n",
    "    n = n+1; % keep counting\n",
    "    \n",
    "    else\n",
    "    \n",
    "    h = false; % break loop\n",
    "    break;\n",
    "    \n",
    "    end\n",
    "\n",
    "end\n",
    "str = fgets(fid);\n",
    "fclose(fid);\n",
    "GGM01C = textread('Q2/Downloaded_data/GGM01C.gdf','', 'headerlines', n);"
   ]
  },
  {
   "cell_type": "code",
   "execution_count": 31,
   "metadata": {
    "scrolled": false
   },
   "outputs": [],
   "source": [
    "GGM01C_longitudes = GGM01C(:,1)-360;\n",
    "GGM01C_latitudes = GGM01C(:,2);\n",
    "GGM01C_geoid = GGM01C(:,3);"
   ]
  },
  {
   "cell_type": "code",
   "execution_count": null,
   "metadata": {},
   "outputs": [],
   "source": []
  }
 ],
 "metadata": {
  "kernelspec": {
   "display_name": "Octave",
   "language": "octave",
   "name": "octave"
  },
  "language_info": {
   "file_extension": ".m",
   "help_links": [
    {
     "text": "GNU Octave",
     "url": "https://www.gnu.org/software/octave/support.html"
    },
    {
     "text": "Octave Kernel",
     "url": "https://github.com/Calysto/octave_kernel"
    },
    {
     "text": "MetaKernel Magics",
     "url": "https://metakernel.readthedocs.io/en/latest/source/README.html"
    }
   ],
   "mimetype": "text/x-octave",
   "name": "octave",
   "version": "5.2.0"
  }
 },
 "nbformat": 4,
 "nbformat_minor": 4
}
